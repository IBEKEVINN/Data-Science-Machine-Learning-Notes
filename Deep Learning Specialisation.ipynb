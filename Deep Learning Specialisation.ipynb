{
 "cells": [
  {
<<<<<<< Updated upstream
   "cell_type": "code",
   "execution_count": null,
   "metadata": {},
   "outputs": [],
   "source": [
    "IntroMachine Learning Python Code:\n",
    "N1:\n",
    "select table where image == find house = ''"
   ]
  }
 ],
 "metadata": {
  "language_info": {
   "name": "python"
  },
  "orig_nbformat": 4
=======
   "cell_type": "markdown",
   "metadata": {},
   "source": []
  }
 ],
 "metadata": {
  "kernelspec": {
   "display_name": "Python 3.9.13 64-bit (microsoft store)",
   "language": "python",
   "name": "python3"
  },
  "language_info": {
   "name": "python",
   "version": "3.9.13"
  },
  "orig_nbformat": 4,
  "vscode": {
   "interpreter": {
    "hash": "28037537d0a17cdb88499018668b91e46562e2585e6ebf514cc73c9a1d28ca8f"
   }
  }
>>>>>>> Stashed changes
 },
 "nbformat": 4,
 "nbformat_minor": 2
}
