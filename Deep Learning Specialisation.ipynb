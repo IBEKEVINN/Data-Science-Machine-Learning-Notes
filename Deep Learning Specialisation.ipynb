{
 "cells": [
  {
   "cell_type": "code",
   "execution_count": null,
   "metadata": {},
   "outputs": [],
   "source": [
    "IntroMachine Learning Python Code:\n",
    "N1:\n",
    "select table where image == find house = ''"
   ]
  }
 ],
 "metadata": {
  "language_info": {
   "name": "python"
  },
  "orig_nbformat": 4
 },
 "nbformat": 4,
 "nbformat_minor": 2
}
