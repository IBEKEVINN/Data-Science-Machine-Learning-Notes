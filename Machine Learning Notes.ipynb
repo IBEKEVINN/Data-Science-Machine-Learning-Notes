{
 "cells": [
  {
   "cell_type": "markdown",
   "metadata": {},
   "source": [
    "# Machine Learning Notes"
   ]
  },
  {
   "cell_type": "markdown",
   "metadata": {},
   "source": [
    "### Supervised Learning\n",
    "\n",
    "Model where the right answers are fed to the model so that it can learn how to adjust predictions. \n",
    "\n",
    "Two problems:\n",
    "- Regression - Produces a function for a continuous output.\n",
    "- Classification - Predict which discrete category a data point(s) belongs to. \n",
    "\n",
    "### Unsupervised Learning\n",
    "\n",
    "Derive the structure of data points based on the relationship (e.g. clustering) of data. No feedback based on the prediction results. e.g. Common markets in pool of genes, isolating cocktail party voices."
   ]
  },
  {
   "cell_type": "markdown",
   "metadata": {},
   "source": [
    "## Gradient Descent"
   ]
  },
  {
   "cell_type": "markdown",
   "metadata": {},
   "source": [
    "Gradient Descent algorithm is given by:\n",
    "\n",
    "$$ \\theta_{j} = \\theta_{j} - \\alpha\\frac{\\partial}{\\partial\\theta_{j}}J(\\theta_{0},\\theta_{1}) $$\n",
    "*$\\alpha$ - Learning rate (size of small step)*\n",
    "\n",
    "Where J is the value of the function to be minimised. The iteration of gradient descent should be applied simultaenoulsy to each variable i.e. updating all values of $\\theta_{j}$ first before starting next iteration."
   ]
  },
  {
   "cell_type": "markdown",
   "metadata": {},
   "source": [
    "# Linear Regression Model\n",
    "\n"
   ]
  }
 ],
 "metadata": {
  "interpreter": {
   "hash": "916dbcbb3f70747c44a77c7bcd40155683ae19c65e1c03b4aa3499c5328201f1"
  },
  "kernelspec": {
   "display_name": "Python 3.9.5 64-bit",
   "language": "python",
   "name": "python3"
  },
  "language_info": {
   "name": "python",
   "version": "3.9.5"
  },
  "orig_nbformat": 4
 },
 "nbformat": 4,
 "nbformat_minor": 2
}
