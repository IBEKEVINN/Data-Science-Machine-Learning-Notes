{
 "cells": [
  {
   "cell_type": "markdown",
   "metadata": {},
   "source": [
    "# Data Science Notes"
   ]
  },
  {
   "cell_type": "markdown",
   "metadata": {},
   "source": [
    "## SQL\n",
    "\n",
    "### Creating Tables\n",
    "\n",
    "`\n",
    "CREATE TABLE table_name (\n",
    "    column1 datatype,\n",
    "    column2 datatype\n",
    ");\n",
    "`\n",
    "\n",
    "\n",
    "Examples of data types: PRIMARY KEY, UNIQUE, NOT NULL (must have value), DEFAULT (e.g. DEFAULT 10)\n",
    "\n",
    "### Inserting Values\n",
    "\n",
    "`\n",
    "INSERT INTO table_name (col1, col2)\n",
    "VALUES (val1, val2)\n",
    "`\n",
    "\n",
    "### Table Modification\n",
    "\n",
    "`\n",
    "ALTER TABLE table_name\n",
    "ADD column_name datatype\n",
    "`\n",
    "\n",
    "`\n",
    "DELETE FROM table_name\n",
    "WHERE column_name = value\n",
    "`\n",
    "\n",
    "`\n",
    "UPDATE table_name\n",
    "SET column1 = value1, column2 = value2\n",
    "WHERE any_column = some_value\n",
    "`\n",
    "\n",
    "### Accessing a Database\n",
    "\n",
    "`\n",
    "SELECT model\n",
    "FROM cars\n",
    "WHERE color = 'blue'\n",
    "`\n",
    "\n",
    "Operators Available:\n",
    "* SELECT (*, DISTINCT, AS column_name)\n",
    "* WHERE (IS (NOT) NULL, BETWEEN, =)\n",
    "* AND, OR\n",
    "* LIKE (% wildcard - 0 or more)\n",
    "* ORDER BY (DESC & ASC)\n",
    "* LIMIT 10\n",
    "\n",
    "\n",
    "\n"
   ]
  },
  {
   "cell_type": "markdown",
   "metadata": {},
   "source": [
    "***"
   ]
  },
  {
   "cell_type": "markdown",
   "metadata": {},
   "source": [
    "----"
   ]
  },
  {
   "cell_type": "markdown",
   "metadata": {},
   "source": [
    "## Python\n",
    "\n",
    "### Regex\n",
    "\n",
    "* **.**   -   Wildcard\n",
    "* **?**   -   Optional Wildcard\n",
    "* **[]**   -   Single match for any characters inside\n",
    "* **{#}**   -   Quantify the exact number of that character\n",
    "* **|**   -   Match either of two expressions\n",
    "* **^,$**   - Anchors. Match text at start or end of string\n",
    "* **\\w**   -   number/character (\\W for opposite)\n",
    "* **\\d**   -   number (\\D for opposite)\n",
    "`\n",
    "\n"
   ]
  },
  {
   "cell_type": "markdown",
   "metadata": {},
   "source": []
  }
 ],
 "metadata": {
  "interpreter": {
   "hash": "916dbcbb3f70747c44a77c7bcd40155683ae19c65e1c03b4aa3499c5328201f1"
  },
  "kernelspec": {
   "display_name": "Python 3.9.5 64-bit",
   "language": "python",
   "name": "python3"
  },
  "language_info": {
   "name": "python",
   "version": "3.9.5"
  },
  "orig_nbformat": 4
 },
 "nbformat": 4,
 "nbformat_minor": 2
}
