{
 "cells": [
  {
   "cell_type": "markdown",
   "metadata": {},
   "source": [
    "# Data Science Notes"
   ]
  },
  {
   "cell_type": "markdown",
   "metadata": {},
   "source": [
    "## SQL\n",
    "\n",
    "### Creating Table\n",
    "\n",
    "`\n",
    "CREATE TABLE table_name (\n",
    "    column1 datatype,\n",
    "    column2 datatype\n",
    ");\n",
    "`\n",
    "\n",
    "\n",
    "Examples of data types: PRIMARY KEY, UNIQUE, NOT NULL (must have value), DEFAULT (e.g. DEFAULT 10)\n",
    "\n",
    "### Inserting Values\n",
    "\n",
    "`\n",
    "INSERT INTO table_name (col1, col2)\n",
    "VALUES (val1, val2)\n",
    "`\n",
    "\n",
    "### Table Modification\n",
    "\n",
    "`\n",
    "ALTER TABLE table_name\n",
    "ADD column_name datatype\n",
    "`\n",
    "\n",
    "`\n",
    "DELETE FROM table_name\n",
    "WHERE column_name = value\n",
    "`\n",
    "\n",
    "`\n",
    "UPDATE table_name\n",
    "SET column1 = value1, column2 = value2\n",
    "WHERE any_column = some_value\n",
    "`\n",
    "\n",
    "### Accessing a Database\n",
    "\n",
    "`\n",
    "SELECT model\n",
    "FROM cars\n",
    "WHERE color = 'blue'\n",
    "`\n",
    "\n",
    "Operators Available:\n",
    "* SELECT (*, DISTINCT, AS column_name)\n",
    "* WHERE (IS (NOT) NULL, BETWEEN, =)\n",
    "* AND, OR\n",
    "* LIKE (% wildcard - 0 or more)\n",
    "* ORDER BY (DESC & ASC)\n",
    "* LIMIT 10\n",
    "\n",
    "\n",
    "\n"
   ]
  },
  {
   "cell_type": "markdown",
   "metadata": {},
   "source": [
    "***"
   ]
  },
  {
   "cell_type": "markdown",
   "metadata": {},
   "source": [
    "----"
   ]
  },
  {
   "cell_type": "markdown",
   "metadata": {},
   "source": [
    "## Python"
   ]
  },
  {
   "cell_type": "markdown",
   "metadata": {},
   "source": [
    "### Importing Files\n",
    "\n",
    "`files = glob.glob(\"states*.csv\")`\n",
    "\n",
    "`df_list = []`  \n",
    "`for filename in files:`  \n",
    "  `df_list.append(pd.read_csv(filename))`\n",
    "\n",
    "`df = pd.concat(df_list)`\n"
   ]
  },
  {
   "cell_type": "markdown",
   "metadata": {},
   "source": [
    "### Regex\n",
    "\n",
    "* **.**   -   Wildcard\n",
    "* **?**   -   Optional Wildcard\n",
    "* **[]**   -   Single match for any characters inside\n",
    "* **{#}**   -   Quantify the exact number of that character\n",
    "* **|**   -   Match either of two expressions\n",
    "* **^,$**   - Anchors. Match text at start or end of string\n",
    "* **\\w**   -   number/character (\\W for opposite)\n",
    "* **\\d**   -   number (\\D for opposite)"
   ]
  },
  {
   "cell_type": "markdown",
   "metadata": {},
   "source": [
    "### Useful Pandas Functions\n",
    "\n",
    "* `df[df.column > 40]` -  Select rows of df\n",
    "\n",
    "* `data.describe(include = 'all')` - Summarises data\n",
    "\n",
    "* `df.info` - Amount of non-null types and dtypes\n",
    "\n",
    "* `df.shape` - Identifies no. of rows and columns\n",
    "\n",
    "* `df = df.drop_duplicates()` - Drops duplicates (.reset_index() as well)\n",
    "\n",
    "* `df.columns = map(str.lower, df.columns)` - Applies lower to each of the column names\n",
    "\n",
    "* `df.isna().sum()` - Find null values\n",
    "\n",
    "* `df[column] = df[column].where(df[column] > 40, np.nan)` - Replaces all values > 40 with np.nan\n",
    "\n",
    "* `df.groupby(by = 'column_name').mean()` - Grouping values in a dataframe\n",
    "\n",
    "* `df.replace('a','b', regex=True)` - Replaces cells in df\n",
    "\n",
    "* `df.apply(lambda x: x+x, axis=1)` - Doubles all cells\n",
    "\n",
    "* `df['category'].value_counts(dropna=False)` - Counts the amount in each category"
   ]
  },
  {
   "cell_type": "markdown",
   "metadata": {},
   "source": [
    "#### **Crosstab is used to compute the frequency of two or more variables (usually null)**\n",
    "  \n",
    "`pd.crosstab(`\n",
    " \n",
    "<i>tabulates the boroughs as the index</i>    \n",
    "`restaurants['boro'],  `\n",
    " \n",
    "<i>tabulates the number of missing values in the url column as columns</i>  \n",
    "`restaurants['url'].isna(), `\n",
    " \n",
    "<i>names the rows</i>  \n",
    "`rownames = ['boro'],`\n",
    " \n",
    "<i>names the columns</i>  \n",
    "`colnames = ['url is na'])  `\n",
    ")"
   ]
  },
  {
   "cell_type": "markdown",
   "metadata": {},
   "source": [
    "#### **Melt is used to clean a dataframe to make each row an observation**\n",
    "\n",
    "`annual_wage=annual_wage.melt(`\n",
    "\n",
    "<i>which column to use as identifier variables</i>  \n",
    "`      id_vars=[\"boro\"], `\n",
    "\n",
    "<i>column name to use for “variable” names/column headers (ie. 2000 and 2007) </i>  \n",
    "`      var_name=[\"year\"], `\n",
    "\n",
    "<i>column name for the values originally in the columns 2000 and 2007</i>  \n",
    "`      value_name=\"avg_annual_wage\") `\n",
    " \n",
    "`print(annual_wage)`\n",
    ")"
   ]
  },
  {
   "cell_type": "markdown",
   "metadata": {},
   "source": [
    "#### **Pivot to restructure a dataframe**\n",
    "`data_tidy = data.pivot(index='Country', columns='Feature', values='Observation').reset_index()`"
   ]
  },
  {
   "cell_type": "markdown",
   "metadata": {},
   "source": [
    "***"
   ]
  },
  {
   "cell_type": "markdown",
   "metadata": {},
   "source": [
    "***"
   ]
  },
  {
   "cell_type": "markdown",
   "metadata": {},
   "source": [
    "## Hypothesis Testing: Associations"
   ]
  },
  {
   "cell_type": "markdown",
   "metadata": {},
   "source": [
    "### Assumptions\n",
    "1. All observations are independant and randomly sampled\n",
    "2. Standard deviations of groups should be equal\n",
    "3. Data should be normally distributed or large sample size\n",
    "4. Groups seperated by categorical variable should be independant"
   ]
  },
  {
   "cell_type": "markdown",
   "metadata": {},
   "source": [
    "<center><img src=\"Images/HT - Associations.png\" width=\"1000\" height=\"700\"></center>"
   ]
  },
  {
   "cell_type": "code",
   "execution_count": 3,
   "metadata": {},
   "outputs": [],
   "source": [
    "from scipy.stats import ttest_ind\n",
    "from scipy.stats import f_oneway\n",
    "from scipy.stats import chi2_contingency\n",
    "from statsmodels.stats.multicomp import pairwise_tukeyhsd"
   ]
  },
  {
   "cell_type": "markdown",
   "metadata": {},
   "source": [
    "* `tstat,pval = ttest.ind(data1, data2)`\n",
    "* `fstat,pval = f_oneway(data1, data2, data3)`\n",
    "* `chi2,pval,dof,expected = chi2_contingency(ab_contingency)`\n",
    "* `tukey_reuslts = pairwise_tukeyhsd(data1,data2,p-value)` - Pandas db has to be crosstabbed with pd.crosstab()"
   ]
  },
  {
   "cell_type": "markdown",
   "metadata": {},
   "source": []
  }
 ],
 "metadata": {
  "kernelspec": {
   "display_name": "Python 3.9.13 64-bit (windows store)",
   "language": "python",
   "name": "python3"
  },
  "language_info": {
   "codemirror_mode": {
    "name": "ipython",
    "version": 3
   },
   "file_extension": ".py",
   "mimetype": "text/x-python",
   "name": "python",
   "nbconvert_exporter": "python",
   "pygments_lexer": "ipython3",
   "version": "3.9.13"
  },
  "orig_nbformat": 4,
  "vscode": {
   "interpreter": {
    "hash": "9dd47d6fd700ce8841320855e94c2e55d7fdae441f2681960855a5e0b56055a9"
   }
  }
 },
 "nbformat": 4,
 "nbformat_minor": 2
}
