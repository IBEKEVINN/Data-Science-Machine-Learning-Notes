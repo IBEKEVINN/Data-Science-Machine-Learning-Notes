{
 "cells": [
  {
   "cell_type": "markdown",
   "metadata": {},
   "source": [
    "# Data Science Notes"
   ]
  },
  {
   "cell_type": "markdown",
   "metadata": {},
   "source": [
    "## SQL\n",
    "\n",
    "### Creating Table\n",
    "\n",
    "`\n",
    "CREATE TABLE table_name (\n",
    "    column1 datatype,\n",
    "    column2 datatype\n",
    ");\n",
    "`\n",
    "\n",
    "\n",
    "Examples of data types: PRIMARY KEY, UNIQUE, NOT NULL (must have value), DEFAULT (e.g. DEFAULT 10)\n",
    "\n",
    "### Inserting Values\n",
    "\n",
    "`\n",
    "INSERT INTO table_name (col1, col2)\n",
    "VALUES (val1, val2)\n",
    "`\n",
    "\n",
    "### Table Modification\n",
    "\n",
    "`\n",
    "ALTER TABLE table_name\n",
    "ADD column_name datatype\n",
    "`\n",
    "\n",
    "`\n",
    "DELETE FROM table_name\n",
    "WHERE column_name = value\n",
    "`\n",
    "\n",
    "`\n",
    "UPDATE table_name\n",
    "SET column1 = value1, column2 = value2\n",
    "WHERE any_column = some_value\n",
    "`\n",
    "\n",
    "### Accessing a Database\n",
    "\n",
    "`\n",
    "SELECT model\n",
    "FROM cars\n",
    "WHERE color = 'blue'\n",
    "`\n",
    "\n",
    "Operators Available:\n",
    "* SELECT (*, DISTINCT, AS column_name)\n",
    "* WHERE (IS (NOT) NULL, BETWEEN, =)\n",
    "* AND, OR\n",
    "* LIKE (% wildcard - 0 or more)\n",
    "* ORDER BY (DESC & ASC)\n",
    "* LIMIT 10\n",
    "\n",
    "\n",
    "\n"
   ]
  },
  {
   "cell_type": "markdown",
   "metadata": {},
   "source": [
    "***"
   ]
  },
  {
   "cell_type": "markdown",
   "metadata": {},
   "source": [
    "----"
   ]
  },
  {
   "cell_type": "markdown",
   "metadata": {},
   "source": [
    "## Python"
   ]
  },
  {
   "cell_type": "markdown",
   "metadata": {},
   "source": [
    "### Importing Files\n",
    "\n",
    "`files = glob.glob(\"states*.csv\")`\n",
    "\n",
    "`df_list = []`  \n",
    "`for filename in files:`  \n",
    "  `df_list.append(pd.read_csv(filename))`\n",
    "\n",
    "`df = pd.concat(df_list)`\n"
   ]
  },
  {
   "cell_type": "markdown",
   "metadata": {},
   "source": [
    "### Regex\n",
    "\n",
    "* **.**   -   Wildcard\n",
    "* **?**   -   Optional Wildcard\n",
    "* **[]**   -   Single match for any characters inside\n",
    "* **{#}**   -   Quantify the exact number of that character\n",
    "* **|**   -   Match either of two expressions\n",
    "* **^,$**   - Anchors. Match text at start or end of string\n",
    "* **\\w**   -   number/character (\\W for opposite)\n",
    "* **\\d**   -   number (\\D for opposite)"
   ]
  },
  {
   "cell_type": "markdown",
   "metadata": {},
   "source": [
    "### Useful Pandas Functions\n",
    "\n",
    "* `df[df.column > 40]` -  Select rows of df\n",
    "\n",
    "* `data.describe(include = 'all') OR data.column.describe()` - Summarises data\n",
    "\n",
    "* `df.info` - Amount of non-null types and dtypes\n",
    "\n",
    "* `df.shape` - Identifies no. of rows and columns\n",
    "\n",
    "* `df['Column'].idxmax()` - Gives index of max of specific column\n",
    "\n",
    "* `df.iloc[[0]] & df.loc[[0]]` - iloc selects integer index, loc selects labeled index\n",
    "\n",
    "* `df = df.drop_duplicates()` - Drops duplicates (.reset_index() as well)\n",
    "\n",
    "* `df.columns = map(str.lower, df.columns)` - Applies lower to each of the column names\n",
    "\n",
    "* `df.isna().sum()` - Find null values\n",
    "\n",
    "* `df[column] = df[column].where(df[column] > 40, np.nan)` - Replaces all values > 40 with np.nan\n",
    "\n",
    "* `df.groupby('column_name').mean()` - Grouping values in a dataframe\n",
    "\n",
    "* `df['newcol'] = df.groupby('groupid').transform(mean)`\n",
    "\n",
    "* `df.replace('a','b', regex=True)` - Replaces cells in df\n",
    "\n",
    "* `df.apply(lambda x: x+x, axis=1)` - Doubles all cells\n",
    "\n",
    "* `df['category'].value_counts(dropna=False)` - Counts the amount in each category"
   ]
  },
  {
   "cell_type": "markdown",
   "metadata": {},
   "source": [
    "#### **Crosstab is used to compute the frequency of two or more variables (usually null)**\n",
    "  \n",
    "`pd.crosstab(`\n",
    " \n",
    "<i>tabulates the boroughs as the index</i>    \n",
    "`restaurants['boro'],  `\n",
    " \n",
    "<i>tabulates the number of missing values in the url column as columns</i>  \n",
    "`restaurants['url'].isna(), `\n",
    " \n",
    "<i>names the rows</i>  \n",
    "`rownames = ['boro'],`\n",
    " \n",
    "<i>names the columns</i>  \n",
    "`colnames = ['url is na'])  `\n",
    ")"
   ]
  },
  {
   "cell_type": "markdown",
   "metadata": {},
   "source": [
    "#### **Melt is used to clean a dataframe to make each row an observation**\n",
    "\n",
    "`annual_wage=annual_wage.melt(`\n",
    "\n",
    "<i>which column to use as identifier variables</i>  \n",
    "`      id_vars=[\"boro\"], `\n",
    "\n",
    "<i>column name to use for “variable” names/column headers (ie. 2000 and 2007) </i>  \n",
    "`      var_name=[\"year\"], `\n",
    "\n",
    "<i>column name for the values originally in the columns 2000 and 2007</i>  \n",
    "`      value_name=\"avg_annual_wage\") `\n",
    " \n",
    "`print(annual_wage)`\n",
    ")"
   ]
  },
  {
   "cell_type": "markdown",
   "metadata": {},
   "source": [
    "#### **Pivot to restructure a dataframe**\n",
    "`data_tidy = data.pivot(index='Country', columns='Feature', values='Observation').reset_index()`"
   ]
  },
  {
   "cell_type": "markdown",
   "metadata": {},
   "source": [
    "***"
   ]
  },
  {
   "cell_type": "markdown",
   "metadata": {},
   "source": [
    "## Hypothesis Testing: Associations"
   ]
  },
  {
   "cell_type": "markdown",
   "metadata": {},
   "source": [
    "### Assumptions\n",
    "1. All observations are independant and randomly sampled\n",
    "2. Standard deviations of groups should be equal\n",
    "3. Data should be normally distributed or large sample size\n",
    "4. Groups seperated by categorical variable should be independant"
   ]
  },
  {
   "cell_type": "markdown",
   "metadata": {},
   "source": [
    "<center><img src=\"Images/HT - Associations.png\" width=\"1000\" height=\"700\"></center>"
   ]
  },
  {
   "cell_type": "code",
   "execution_count": 26,
   "metadata": {},
   "outputs": [],
   "source": [
    "from scipy.stats import ttest_ind\n",
    "from scipy.stats import f_oneway\n",
    "from scipy.stats import chi2_contingency\n",
    "from statsmodels.stats.multicomp import pairwise_tukeyhsd"
   ]
  },
  {
   "cell_type": "markdown",
   "metadata": {},
   "source": [
    "* `tstat,pval = ttest.ind(data1, data2)`\n",
    "* `fstat,pval = f_oneway(data1, data2, data3)`\n",
    "* `chi2,pval,dof,expected = chi2_contingency(ab_contingency)`\n",
    "* `tukey_reuslts = pairwise_tukeyhsd(data1,data2,p-value)` - Pandas db has to be crosstabbed with pd.crosstab()"
   ]
  },
  {
   "cell_type": "markdown",
   "metadata": {},
   "source": [
    "## Feature Engineering\n",
    "\n",
    "<center><img src=\"intro to Feature Engg Table.png\" width=\"700\" height=\"350\"></center>"
   ]
  },
  {
   "cell_type": "markdown",
   "metadata": {},
   "source": [
    "#### 1. Standardising Data\n",
    "Centering the data and dividing by standard deviation. Results in a mean of 0 and sd. of 1."
   ]
  },
  {
   "cell_type": "code",
   "execution_count": 27,
   "metadata": {},
   "outputs": [],
   "source": [
    "import numpy as np\n",
    "ages = np.random.randint(1,100,10)\n",
    "\n",
    "# Manually\n",
    "\n",
    "mean_age = np.mean(ages)\n",
    "std_dev_age = np.std(ages)\n",
    "ages_standardized = (ages-mean_age)/std_dev_age\n",
    "\n",
    "# Using Sklearn\n",
    "\n",
    "from sklearn.preprocessing import StandardScaler \n",
    "\n",
    "scaler = StandardScaler()\n",
    "ages_reshaped = np.array(ages).reshape(-1,1)\n",
    "\n",
    "ages_scaled = scaler.fit_transform(ages_reshaped)"
   ]
  },
  {
   "cell_type": "markdown",
   "metadata": {},
   "source": [
    "#### 2. Min-max normalisation\n",
    "Transforming the dataset to fit between 0-1."
   ]
  },
  {
   "cell_type": "code",
   "execution_count": 28,
   "metadata": {},
   "outputs": [],
   "source": [
    "# Manually\n",
    "\n",
    "max_age = np.max(ages)\n",
    "\n",
    "min_age = np.min(ages)\n",
    "\n",
    "age_range = max_age - min_age\n",
    "age_normalized = (ages-min_age)/age_range\n",
    "\n",
    "# Using Sklearn\n",
    "\n",
    "from sklearn.preprocessing import MinMaxScaler\n",
    "\n",
    "ages_reshaped = np.array(ages).reshape(-1,1)\n",
    "mmscaler = MinMaxScaler()\n",
    "reshaped_scaled = mmscaler.fit_transform(ages_reshaped)"
   ]
  },
  {
   "cell_type": "markdown",
   "metadata": {},
   "source": [
    "#### 3. Binning Data"
   ]
  },
  {
   "cell_type": "code",
   "execution_count": 29,
   "metadata": {},
   "outputs": [
    {
     "data": {
      "image/png": "[encoded data removed]",
      "text/plain": [
       "<Figure size 432x288 with 1 Axes>"
      ]
     },
     "metadata": {
      "needs_background": "light"
     },
     "output_type": "display_data"
    }
   ],
   "source": [
    "import pandas as pd\n",
    "import matplotlib.pyplot as plt\n",
    "\n",
    "age_bins = [12,20,30,40,71]\n",
    "binned_ages = pd.cut(ages,age_bins,right=False)\n",
    "\n",
    "binned_ages.value_counts().plot(kind='bar')\n",
    "plt.show()"
   ]
  },
  {
   "cell_type": "markdown",
   "metadata": {},
   "source": [
    "### Encoding Categorical Variables\n",
    "\n",
    "* **Ordinal Encoding**: <br>\n",
    "Create dictionary of label: values in order\n",
    "\n",
    "* **Label Encoding**: <br>\n",
    "Create dictionary of label: no order\n",
    "\n",
    "* **One-Hot Encoding (Ohe)**: <br>\n",
    "Create binary variables for each of the nominal categories.\n",
    "\n",
    "* **Binary Encoding**: <br>\n",
    "Change categories into binary with columns representing each unit placement.\n"
   ]
  },
  {
   "cell_type": "code",
   "execution_count": 30,
   "metadata": {},
   "outputs": [
    {
     "name": "stdout",
     "output_type": "stream",
     "text": [
      "2019-02-16 13:48:05\n"
     ]
    }
   ],
   "source": [
    "data = [['Excellent', 'black'], ['Fair', 'orange'], ['Like New', 'black']]\n",
    "cars = pd.DataFrame(data, columns=['condition', 'color'])\n",
    "\n",
    "## Ordinal Encoding\n",
    "\n",
    "rating_dict = {'Excellent':5, 'New':4, 'Like New':3, 'Good':2, 'Fair':1}\n",
    " \n",
    "cars['condition_rating'] = cars['condition'].map(rating_dict)\n",
    "\n",
    "cars['color'] = cars['color'].astype('category')\n",
    "\n",
    "# One-Hot Encoding\n",
    "\n",
    "ohe = pd.get_dummies(cars['color'])\n",
    "cars['color'] = cars['color'].cat.codes\n",
    "cars = cars.join(ohe)\n",
    "\n",
    "# Binary Encoding\n",
    "\n",
    "from category_encoders import BinaryEncoder\n",
    "colors = BinaryEncoder(cols = ['color'], drop_invariant = True).fit_transform(cars)\n",
    "\n",
    "# Date-Time\n",
    "\n",
    "import datetime\n",
    "\n",
    "timestamp= datetime.datetime(year=2019, month=2, day=16, hour=13, minute=48, second=5)\n",
    "timestamp = datetime.datetime(2019, 2, 16, 13, 48, 5)\n",
    "print (timestamp)"
   ]
  },
  {
   "cell_type": "markdown",
   "metadata": {},
   "source": [
    "### Linear Regression and Multiple Regression and Training Data"
   ]
  },
  {
   "cell_type": "code",
   "execution_count": 31,
   "metadata": {},
   "outputs": [
    {
     "ename": "TypeError",
     "evalue": "score() missing 2 required positional arguments: 'X' and 'y'",
     "output_type": "error",
     "traceback": [
      "\u001b[1;31m---------------------------------------------------------------------------\u001b[0m",
      "\u001b[1;31mTypeError\u001b[0m                                 Traceback (most recent call last)",
      "\u001b[1;32mc:\\Users\\Kevin\\Documents\\GitHub\\Machine-Learning-Notes\\Codecademy Data Science Notes.ipynb Cell 28\u001b[0m in \u001b[0;36m<cell line: 19>\u001b[1;34m()\u001b[0m\n\u001b[0;32m     <a href='vscode-notebook-cell:/c%3A/Users/Kevin/Documents/GitHub/Machine-Learning-Notes/Codecademy%20Data%20Science%20Notes.ipynb#X36sZmlsZQ%3D%3D?line=16'>17</a>\u001b[0m regr\u001b[39m.\u001b[39mcoef_\n\u001b[0;32m     <a href='vscode-notebook-cell:/c%3A/Users/Kevin/Documents/GitHub/Machine-Learning-Notes/Codecademy%20Data%20Science%20Notes.ipynb#X36sZmlsZQ%3D%3D?line=17'>18</a>\u001b[0m regr\u001b[39m.\u001b[39mintercept_\n\u001b[1;32m---> <a href='vscode-notebook-cell:/c%3A/Users/Kevin/Documents/GitHub/Machine-Learning-Notes/Codecademy%20Data%20Science%20Notes.ipynb#X36sZmlsZQ%3D%3D?line=18'>19</a>\u001b[0m regr\u001b[39m.\u001b[39;49mscore()\n",
      "\u001b[1;31mTypeError\u001b[0m: score() missing 2 required positional arguments: 'X' and 'y'"
     ]
    }
   ],
   "source": [
    "from sklearn.linear_model import LinearRegression\n",
    "import numpy as np\n",
    "import matplotlib.pyplot as plt\n",
    "\n",
    "# Creating Sales vs Temperature Dataset\n",
    "temperature = np.array(range(60, 100, 2))\n",
    "temperature = temperature.reshape(-1, 1)\n",
    "sales = [65, 58, 46, 45, 44, 42, 40, 40, 36, 38, 38, 28, 30, 22, 27, 25, 25, 20, 15, 5]\n",
    "\n",
    "# Sklearn Linear Regression\n",
    "\n",
    "regr = LinearRegression()\n",
    "regr.fit(temperature,sales) # X = df.temperature.values.reshape(-1,1) if needed\n",
    "sales_predict = regr.predict(temperature)\n",
    "\n",
    "# Regression Features\n",
    "regr.coef_\n",
    "regr.intercept_\n",
    "regr.score() # x_train and y_train for scoring against train data"
   ]
  },
  {
   "cell_type": "code",
   "execution_count": null,
   "metadata": {},
   "outputs": [
    {
     "data": {
      "text/plain": [
       "0.7467332043233916"
      ]
     },
     "execution_count": 17,
     "metadata": {},
     "output_type": "execute_result"
    }
   ],
   "source": [
    "from sklearn.model_selection import train_test_split\n",
    "\n",
    "# Test Data\n",
    "df = pd.read_csv(\"https://raw.githubusercontent.com/sonnynomnom/Codecademy-Machine-Learning-Fundamentals/master/StreetEasy/manhattan.csv\")\n",
    "x = df[['bedrooms', 'bathrooms', 'size_sqft', 'min_to_subway', 'floor', 'building_age_yrs', 'no_fee', 'has_roofdeck', 'has_washer_dryer', 'has_doorman', 'has_elevator', 'has_dishwasher', 'has_patio', 'has_gym']]\n",
    "y = df.rent\n",
    "\n",
    "# Training Data\n",
    "x_train, x_test, y_train, y_test = train_test_split(x, y, train_size=0.8, test_size=0.2, random_state=1)\n",
    "mlr = LinearRegression()\n",
    "mlr.fit(x_train,y_train)\n",
    "mlr.score(x_train,y_train)\n",
    "mlr.score(x_test,y_test)"
   ]
  },
  {
   "cell_type": "markdown",
   "metadata": {},
   "source": [
    "### Logistic Regression\n",
    "\n",
    "Supervised ML algorithm to predict probability of a datapoint belonging to a specific category."
   ]
  },
  {
   "cell_type": "markdown",
   "metadata": {},
   "source": [
    "Odds: $\\frac{p}{1-p}$ <br>\n",
    "<br>\n",
    "Log-Odds: $ln{(\\frac{p}{1-p})}$\n",
    "\n",
    "Probability = $\\frac{e^{log\\_odds}}{(1+ e^{log\\_odds})}$"
   ]
  },
  {
   "cell_type": "code",
   "execution_count": null,
   "metadata": {},
   "outputs": [
    {
     "data": {
      "text/plain": [
       "'\\nlr = LogisticRegression()\\nlr.fit(X_train,y_train)\\nlr.predict(X_test)\\nlr.predict_proba(X_test)\\n'"
      ]
     },
     "execution_count": 12,
     "metadata": {},
     "output_type": "execute_result"
    }
   ],
   "source": [
    "from sklearn.linear_model import LogisticRegression\n",
    "\"\"\"\n",
    "scaler = StandardScaler()\n",
    "X_train = scaler.fit_transform(X_train)\n",
    "X_test = scaler.transform(X_test)\n",
    "\n",
    "lr = LogisticRegression()\n",
    "lr.fit(X_train,y_train)\n",
    "lr.predict(X_test)\n",
    "lr.predict_proba(X_test)\n",
    "\"\"\"\n",
    "\n",
    "from sklearn.metrics import confusion_matrix\n",
    "\"\"\"\n",
    "confusion_matrix(y_true,y_pred)\n",
    "\n",
    "array([[True Negative, False Positive]\n",
    "       [False Negative, True Positive]])\n",
    "       \n",
    "\"\"\"\n",
    "\n",
    "\n"
   ]
  },
  {
   "cell_type": "markdown",
   "metadata": {},
   "source": [
    "### K-Nearest Neighbours (kNN)"
   ]
  },
  {
   "cell_type": "markdown",
   "metadata": {},
   "source": [
    "* A classification algorithm used to classify specific data points by looking at '_k_' of its nearest neighbours. \n",
    "* Whatever is the majority in the _k_, the point is classified as such."
   ]
  },
  {
   "cell_type": "markdown",
   "metadata": {},
   "source": [
    "1. Normalise the data.\n",
    "2. Find the k nearest neighbours.\n",
    "3. Classify the new point based on those neigbours."
   ]
  },
  {
   "cell_type": "code",
   "execution_count": null,
   "metadata": {},
   "outputs": [
    {
     "data": {
      "text/plain": [
       "0.9999999999999986"
      ]
     },
     "execution_count": 25,
     "metadata": {},
     "output_type": "execute_result"
    }
   ],
   "source": [
    "# Creating Data\n",
    "training_points = [\n",
    "  [0.5, 0.2, 0.1],\n",
    "  [0.9, 0.7, 0.3],\n",
    "  [0.4, 0.5, 0.7]\n",
    "]\n",
    "training_labels = [0, 1, 1]\n",
    "\n",
    "# Using SkLearn\n",
    "from sklearn.neighbors import KNeighborsClassifier\n",
    "from sklearn.neighbors import KNeighborsRegressor\n",
    "\n",
    "k = 3\n",
    "classifier = KNeighborsClassifier(n_neighbors = k)\n",
    "classifier = KNeighborsRegressor(n_neighbors = k, weights = \"distance\")\n",
    "classifier.fit(training_points, training_labels)\n",
    "classifier.score(training_points, training_labels)\n",
    "# classifier.predict(unknown_points) *Where unknown_points must be a list"
   ]
  },
  {
   "cell_type": "code",
   "execution_count": null,
   "metadata": {},
   "outputs": [],
   "source": [
    "from sklearn.tree import DecisionTreeClassifier\n"
   ]
  },
  {
   "cell_type": "markdown",
   "metadata": {},
   "source": [
    "### Decision Tree\n",
    "\n",
    "* A flow chart created from the features of the data."
   ]
  },
  {
   "cell_type": "markdown",
   "metadata": {},
   "source": [
    "<center><img src=\"Images/Decision Tree.png\" width=\"700\" height=\"500\"></center>"
   ]
  },
  {
   "cell_type": "markdown",
   "metadata": {},
   "source": []
  }
 ],
 "metadata": {
  "kernelspec": {
   "display_name": "Python 3.9.13 64-bit (windows store)",
   "language": "python",
   "name": "python3"
  },
  "language_info": {
   "codemirror_mode": {
    "name": "ipython",
    "version": 3
   },
   "file_extension": ".py",
   "mimetype": "text/x-python",
   "name": "python",
   "nbconvert_exporter": "python",
   "pygments_lexer": "ipython3",
   "version": "3.9.13"
  },
  "orig_nbformat": 4,
  "vscode": {
   "interpreter": {
    "hash": "28037537d0a17cdb88499018668b91e46562e2585e6ebf514cc73c9a1d28ca8f"
   }
  }
 },
 "nbformat": 4,
 "nbformat_minor": 2
}
