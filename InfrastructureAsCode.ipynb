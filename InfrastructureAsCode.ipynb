{
 "cells": [
  {
   "cell_type": "markdown",
   "metadata": {},
   "source": [
    "## **Infrastructure as Code**"
   ]
  },
  {
   "cell_type": "markdown",
   "metadata": {},
   "source": [
    "##### **Provisioning**\n",
    "\n",
    "* **Network Provisioning** (Switches, routers, gateways)\n",
    "* **User Provisioning** (Users, User Groups, Privileges)\n",
    "* **Service Provisioning** (Cloud services)"
   ]
  },
  {
   "cell_type": "markdown",
   "metadata": {},
   "source": [
    "##### **Confriguration**\n",
    "\n",
    "Dependencies, Linux distro, logging, database configs\n",
    "\n",
    "- Can be ongoing"
   ]
  },
  {
   "cell_type": "markdown",
   "metadata": {},
   "source": [
    "##### **Confriguration orchestration vs Configuration management**\n",
    "\n",
    "Orchestration focuses on provisioning of cloud services. (**Terraform**)  \n",
    "Management maintains a desired state of provisioned resources. (**Ansible**)  "
   ]
  },
  {
   "cell_type": "markdown",
   "metadata": {},
   "source": [
    "##### Terraform Object Types \n",
    "Providers, Resources and Data sources"
   ]
  },
  {
   "cell_type": "code",
   "execution_count": null,
   "metadata": {},
   "outputs": [
    {
     "ename": "",
     "evalue": "",
     "output_type": "error",
     "traceback": [
      "\u001b[1;31mRunning cells with 'Python 3.12.4 64-bit' requires ipykernel package.\n",
      "\u001b[1;31mRun the following command to install 'ipykernel' into the Python environment. \n",
      "\u001b[1;31mCommand: '/opt/homebrew/bin/python3 -m pip install ipykernel -U --user --force-reinstall'"
     ]
    }
   ],
   "source": [
    "\"\"\"\n",
    "\n",
    "block_type \"label\" \"name_label\" {\n",
    "    key = 'value'\n",
    "    nested_block {\n",
    "        key = 'value'\n",
    "    }\n",
    "}\n",
    "\n",
    "resource \"aws_instance\" \"web_server\" {\n",
    "    name = \"web-server\"\n",
    "    ebs_volume {\n",
    "        size = 40\n",
    "    }\n",
    "}\n",
    "\n",
    "TO REFERENCE:\n",
    "\n",
    "aws_instance.web_server.name\n",
    "\n",
    "\"\"\""
   ]
  },
  {
   "cell_type": "code",
   "execution_count": null,
   "metadata": {},
   "outputs": [],
   "source": [
    "\"\"\"\n",
    "terraform init\n",
    "terraform plan\n",
    "terraform apply\n",
    "terraform destroy\n",
    "\n",
    "terraform validate\n",
    "\"\"\""
   ]
  },
  {
   "cell_type": "markdown",
   "metadata": {},
   "source": [
    "##### Input variables"
   ]
  },
  {
   "cell_type": "code",
   "execution_count": null,
   "metadata": {},
   "outputs": [
    {
     "ename": "",
     "evalue": "",
     "output_type": "error",
     "traceback": [
      "\u001b[1;31mRunning cells with 'Python 3.12.4 64-bit' requires ipykernel package.\n",
      "\u001b[1;31mRun the following command to install 'ipykernel' into the Python environment. \n",
      "\u001b[1;31mCommand: '/opt/homebrew/bin/python3 -m pip install ipykernel -U --user --force-reinstall'"
     ]
    }
   ],
   "source": [
    "\"\"\"\n",
    "variable \"name_label\" {\n",
    "    type = type\n",
    "    description = \"string\"\n",
    "    default = value     # THIS IS USED TO MAKE A VARIABLE OPTIONAL\n",
    "    sensitive = true | false\n",
    "}\n",
    "\n",
    "TO REFERENCE\n",
    "    \n",
    "var.aws_region\n",
    "\n",
    "locals {\n",
    "    key = value\n",
    "}\n",
    "\"\"\""
   ]
  }
 ],
 "metadata": {
  "kernelspec": {
   "display_name": "Python 3.12.4 64-bit",
   "language": "python",
   "name": "python3"
  },
  "language_info": {
   "name": "python",
   "version": "3.12.4"
  },
  "vscode": {
   "interpreter": {
    "hash": "b0fa6594d8f4cbf19f97940f81e996739fb7646882a419484c72d19e05852a7e"
   }
  }
 },
 "nbformat": 4,
 "nbformat_minor": 2
}
