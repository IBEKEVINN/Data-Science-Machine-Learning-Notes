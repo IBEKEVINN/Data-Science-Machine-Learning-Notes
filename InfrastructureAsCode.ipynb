{
 "cells": [
  {
   "cell_type": "markdown",
   "metadata": {},
   "source": [
    "## **Infrastructure as Code**"
   ]
  },
  {
   "cell_type": "markdown",
   "metadata": {},
   "source": [
    "##### **Provisioning**\n",
    "\n",
    "* **Network Provisioning** (Switches, routers, gateways)\n",
    "* **User Provisioning** (Users, User Groups, Privileges)\n",
    "* **Service Provisioning** (Cloud services)"
   ]
  },
  {
   "cell_type": "markdown",
   "metadata": {},
   "source": [
    "##### **Confriguration**\n",
    "\n",
    "Dependencies, Linux distro, logging, database configs\n",
    "\n",
    "- Can be ongoing"
   ]
  },
  {
   "cell_type": "markdown",
   "metadata": {},
   "source": [
    "##### **Confriguration orchestration vs Configuration management**\n",
    "\n",
    "Orchestration focuses on provisioning of cloud services. (**Terraform**)  \n",
    "Management maintains a desired state of provisioned resources. (**Ansible**)  "
   ]
  },
  {
   "cell_type": "markdown",
   "metadata": {},
   "source": []
  }
 ],
 "metadata": {
  "language_info": {
   "name": "python"
  }
 },
 "nbformat": 4,
 "nbformat_minor": 2
}
